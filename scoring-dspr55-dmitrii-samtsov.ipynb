{
 "cells": [
  {
   "cell_type": "code",
   "execution_count": 74,
   "metadata": {
    "_cell_guid": "b1076dfc-b9ad-4769-8c92-a6c4dae69d19",
    "_uuid": "8f2839f25d086af736a60e9eeb907d3b93b6e0e5",
    "execution": {
     "iopub.execute_input": "2022-05-13T15:03:26.593812Z",
     "iopub.status.busy": "2022-05-13T15:03:26.590191Z",
     "iopub.status.idle": "2022-05-13T15:03:26.622497Z",
     "shell.execute_reply": "2022-05-13T15:03:26.621596Z",
     "shell.execute_reply.started": "2022-05-13T15:03:26.593657Z"
    }
   },
   "outputs": [],
   "source": [
    "# This Python 3 environment comes with many helpful analytics libraries installed\n",
    "# It is defined by the kaggle/python Docker image: https://github.com/kaggle/docker-python\n",
    "# For example, here's several helpful packages to load\n",
    "\n",
    "import numpy as np  # linear algebra\n",
    "import pandas as pd  # data processing, CSV file I/O (e.g. pd.read_csv)\n",
    "from sklearn.metrics import mean_squared_error, f1_score, accuracy_score, roc_curve, roc_auc_score, confusion_matrix\n",
    "from sklearn.tree import DecisionTreeClassifier\n",
    "from sklearn.model_selection import train_test_split\n",
    "import seaborn as sns\n",
    "from itertools import combinations\n",
    "from scipy.stats import ttest_ind\n",
    "import matplotlib.pyplot as plt\n",
    "import missingno as msno\n",
    "from sklearn.metrics import confusion_matrix\n",
    "\n",
    "# Input data files are available in the read-only \"../input/\" directory\n",
    "# For example, running this (by clicking run or pressing Shift+Enter) will list all files under the input directory\n",
    "\n",
    "import os\n",
    "for dirname, _, filenames in os.walk('/kaggle/input'):\n",
    "    for filename in filenames:\n",
    "        print(os.path.join(dirname, filename))\n",
    "\n",
    "# You can write up to 20GB to the current directory (/kaggle/working/) that gets preserved as output when you create a version using \"Save & Run All\"\n",
    "# You can also write temporary files to /kaggle/temp/, but they won't be saved outside of the current session"
   ]
  },
  {
   "cell_type": "code",
   "execution_count": 75,
   "metadata": {
    "execution": {
     "iopub.execute_input": "2022-05-13T15:03:26.624673Z",
     "iopub.status.busy": "2022-05-13T15:03:26.624248Z",
     "iopub.status.idle": "2022-05-13T15:03:26.635474Z",
     "shell.execute_reply": "2022-05-13T15:03:26.634246Z",
     "shell.execute_reply.started": "2022-05-13T15:03:26.624640Z"
    }
   },
   "outputs": [],
   "source": [
    "# Функция для анализа данных в столбце\n",
    "def column_analisys(clmn):\n",
    "    print(clmn.describe())\n",
    "    clmn.hist()\n",
    "    IQR = clmn.quantile(0.75) - clmn.quantile(0.25)\n",
    "    perc25 = clmn.quantile(0.25)\n",
    "    perc75 = clmn.quantile(0.75)\n",
    "\n",
    "    print(\n",
    "        '25-й перцентиль: {},'.format(perc25),\n",
    "        '75-й перцентиль: {},'.format(perc75),\n",
    "        \"IQR: {}, \".format(IQR),\n",
    "        \"Границы выбросов: [{f}, {l}].\".format(f=perc25 - 1.5*IQR, l=perc75 + 1.5*IQR))\n",
    "\n",
    "    clmn.loc[clmn.between(perc25 - 1.5*IQR, perc75 + 1.5*IQR)\n",
    "             ].hist(bins=10, range=(clmn.min(), clmn.max()), label='IQR')\n",
    "\n",
    "    plt.legend()\n",
    "    return"
   ]
  },
  {
   "cell_type": "code",
   "execution_count": 76,
   "metadata": {
    "execution": {
     "iopub.execute_input": "2022-05-13T15:03:26.650026Z",
     "iopub.status.busy": "2022-05-13T15:03:26.649612Z",
     "iopub.status.idle": "2022-05-13T15:03:26.944791Z",
     "shell.execute_reply": "2022-05-13T15:03:26.943789Z",
     "shell.execute_reply.started": "2022-05-13T15:03:26.649990Z"
    }
   },
   "outputs": [],
   "source": [
    "DATA_DIR = '/kaggle/input/sf-scoring/'\n",
    "df_train = pd.read_csv(DATA_DIR + '/train.csv')\n",
    "df_test = pd.read_csv(DATA_DIR + '/test.csv')\n",
    "sample_submission = pd.read_csv(DATA_DIR+'/sample_submission.csv')"
   ]
  },
  {
   "cell_type": "code",
   "execution_count": 77,
   "metadata": {
    "execution": {
     "iopub.execute_input": "2022-05-13T15:03:26.947493Z",
     "iopub.status.busy": "2022-05-13T15:03:26.947012Z",
     "iopub.status.idle": "2022-05-13T15:03:26.955839Z",
     "shell.execute_reply": "2022-05-13T15:03:26.954829Z",
     "shell.execute_reply.started": "2022-05-13T15:03:26.947447Z"
    }
   },
   "outputs": [],
   "source": [
    "sample_submission.shape"
   ]
  },
  {
   "cell_type": "code",
   "execution_count": 78,
   "metadata": {
    "execution": {
     "iopub.execute_input": "2022-05-13T15:03:26.957271Z",
     "iopub.status.busy": "2022-05-13T15:03:26.957013Z",
     "iopub.status.idle": "2022-05-13T15:03:26.970395Z",
     "shell.execute_reply": "2022-05-13T15:03:26.969539Z",
     "shell.execute_reply.started": "2022-05-13T15:03:26.957242Z"
    }
   },
   "outputs": [],
   "source": [
    "df_test.shape"
   ]
  },
  {
   "cell_type": "code",
   "execution_count": 79,
   "metadata": {
    "execution": {
     "iopub.execute_input": "2022-05-13T15:03:26.973958Z",
     "iopub.status.busy": "2022-05-13T15:03:26.973394Z",
     "iopub.status.idle": "2022-05-13T15:03:27.048368Z",
     "shell.execute_reply": "2022-05-13T15:03:27.047299Z",
     "shell.execute_reply.started": "2022-05-13T15:03:26.973920Z"
    }
   },
   "outputs": [],
   "source": [
    "df_train.info()"
   ]
  },
  {
   "cell_type": "code",
   "execution_count": 80,
   "metadata": {
    "execution": {
     "iopub.execute_input": "2022-05-13T15:03:27.050061Z",
     "iopub.status.busy": "2022-05-13T15:03:27.049778Z",
     "iopub.status.idle": "2022-05-13T15:03:27.071651Z",
     "shell.execute_reply": "2022-05-13T15:03:27.071059Z",
     "shell.execute_reply.started": "2022-05-13T15:03:27.050023Z"
    }
   },
   "outputs": [],
   "source": [
    "df_train.head(5)"
   ]
  },
  {
   "cell_type": "code",
   "execution_count": 81,
   "metadata": {
    "execution": {
     "iopub.execute_input": "2022-05-13T15:03:27.073214Z",
     "iopub.status.busy": "2022-05-13T15:03:27.072862Z",
     "iopub.status.idle": "2022-05-13T15:03:27.119023Z",
     "shell.execute_reply": "2022-05-13T15:03:27.117817Z",
     "shell.execute_reply.started": "2022-05-13T15:03:27.073185Z"
    }
   },
   "outputs": [],
   "source": [
    "df_test.info()"
   ]
  },
  {
   "cell_type": "code",
   "execution_count": 82,
   "metadata": {
    "execution": {
     "iopub.execute_input": "2022-05-13T15:03:27.120561Z",
     "iopub.status.busy": "2022-05-13T15:03:27.120298Z",
     "iopub.status.idle": "2022-05-13T15:03:27.130618Z",
     "shell.execute_reply": "2022-05-13T15:03:27.129676Z",
     "shell.execute_reply.started": "2022-05-13T15:03:27.120530Z"
    }
   },
   "outputs": [],
   "source": [
    "sample_submission.head(5)"
   ]
  },
  {
   "cell_type": "code",
   "execution_count": 83,
   "metadata": {
    "execution": {
     "iopub.execute_input": "2022-05-13T15:03:27.132275Z",
     "iopub.status.busy": "2022-05-13T15:03:27.132050Z",
     "iopub.status.idle": "2022-05-13T15:03:27.151447Z",
     "shell.execute_reply": "2022-05-13T15:03:27.150520Z",
     "shell.execute_reply.started": "2022-05-13T15:03:27.132248Z"
    }
   },
   "outputs": [],
   "source": [
    "sample_submission.info()"
   ]
  },
  {
   "cell_type": "code",
   "execution_count": 84,
   "metadata": {
    "execution": {
     "iopub.execute_input": "2022-05-13T15:03:27.153292Z",
     "iopub.status.busy": "2022-05-13T15:03:27.152915Z",
     "iopub.status.idle": "2022-05-13T15:03:27.229085Z",
     "shell.execute_reply": "2022-05-13T15:03:27.228133Z",
     "shell.execute_reply.started": "2022-05-13T15:03:27.153261Z"
    }
   },
   "outputs": [],
   "source": [
    "# ВАЖНО! дря корректной обработки признаков объединяем трейн и тест в один датасет\n",
    "df_train['sample'] = 1  # помечаем где у нас трейн\n",
    "df_test['sample'] = 0  # помечаем где у нас тест\n",
    "# в тесте у нас нет значения default, мы его должны предсказать, по этому пока просто заполняем нулями\n",
    "df_test['default'] = 0\n",
    "\n",
    "data = df_test.append(df_train, sort=False).reset_index(\n",
    "    drop=True)  # объединяем"
   ]
  },
  {
   "cell_type": "code",
   "execution_count": 85,
   "metadata": {
    "execution": {
     "iopub.execute_input": "2022-05-13T15:03:27.232634Z",
     "iopub.status.busy": "2022-05-13T15:03:27.232208Z",
     "iopub.status.idle": "2022-05-13T15:03:27.315848Z",
     "shell.execute_reply": "2022-05-13T15:03:27.314850Z",
     "shell.execute_reply.started": "2022-05-13T15:03:27.232586Z"
    }
   },
   "outputs": [],
   "source": [
    "data.nunique(dropna=False)"
   ]
  },
  {
   "cell_type": "code",
   "execution_count": 86,
   "metadata": {
    "execution": {
     "iopub.execute_input": "2022-05-13T15:03:27.317941Z",
     "iopub.status.busy": "2022-05-13T15:03:27.317651Z",
     "iopub.status.idle": "2022-05-13T15:03:29.189979Z",
     "shell.execute_reply": "2022-05-13T15:03:29.188934Z",
     "shell.execute_reply.started": "2022-05-13T15:03:27.317909Z"
    }
   },
   "outputs": [],
   "source": [
    "# Показываем наличие пропусков\n",
    "msno.bar(data)"
   ]
  },
  {
   "cell_type": "code",
   "execution_count": 87,
   "metadata": {
    "execution": {
     "iopub.execute_input": "2022-05-13T15:03:29.191587Z",
     "iopub.status.busy": "2022-05-13T15:03:29.191303Z",
     "iopub.status.idle": "2022-05-13T15:03:29.196908Z",
     "shell.execute_reply": "2022-05-13T15:03:29.196024Z",
     "shell.execute_reply.started": "2022-05-13T15:03:29.191554Z"
    }
   },
   "outputs": [],
   "source": [
    "num_cols = ['age', 'score_bki', 'decline_app_cnt',\n",
    "            'score_bki', 'bki_request_cnt', 'income']\n",
    "cat_cols = ['education', 'first_time', 'sna',\n",
    "            'work_address', 'home_address', 'region_rating']\n",
    "bin_cols = ['sex', 'car', 'car_type', 'good_work', 'foreign_passport']"
   ]
  },
  {
   "cell_type": "code",
   "execution_count": 88,
   "metadata": {
    "execution": {
     "iopub.execute_input": "2022-05-13T15:03:29.198399Z",
     "iopub.status.busy": "2022-05-13T15:03:29.198144Z",
     "iopub.status.idle": "2022-05-13T15:03:29.400084Z",
     "shell.execute_reply": "2022-05-13T15:03:29.399158Z",
     "shell.execute_reply.started": "2022-05-13T15:03:29.198367Z"
    }
   },
   "outputs": [],
   "source": [
    "data['default'].value_counts(ascending=True).plot(kind='barh')"
   ]
  },
  {
   "cell_type": "code",
   "execution_count": 89,
   "metadata": {
    "execution": {
     "iopub.execute_input": "2022-05-13T15:03:29.402094Z",
     "iopub.status.busy": "2022-05-13T15:03:29.401626Z",
     "iopub.status.idle": "2022-05-13T15:03:29.409607Z",
     "shell.execute_reply": "2022-05-13T15:03:29.408988Z",
     "shell.execute_reply.started": "2022-05-13T15:03:29.402059Z"
    }
   },
   "outputs": [],
   "source": [
    "data['default'].value_counts(ascending=True)"
   ]
  },
  {
   "cell_type": "code",
   "execution_count": 90,
   "metadata": {
    "execution": {
     "iopub.execute_input": "2022-05-13T15:03:29.411122Z",
     "iopub.status.busy": "2022-05-13T15:03:29.410855Z",
     "iopub.status.idle": "2022-05-13T15:03:29.430681Z",
     "shell.execute_reply": "2022-05-13T15:03:29.429795Z",
     "shell.execute_reply.started": "2022-05-13T15:03:29.411091Z"
    }
   },
   "outputs": [],
   "source": [
    "# убираем id клиента, как не несущую информации\n",
    "data.drop(['client_id'], axis=1, inplace=True)"
   ]
  },
  {
   "cell_type": "code",
   "execution_count": 91,
   "metadata": {
    "execution": {
     "iopub.execute_input": "2022-05-13T15:03:29.433639Z",
     "iopub.status.busy": "2022-05-13T15:03:29.432483Z",
     "iopub.status.idle": "2022-05-13T15:03:29.481010Z",
     "shell.execute_reply": "2022-05-13T15:03:29.479996Z",
     "shell.execute_reply.started": "2022-05-13T15:03:29.433588Z"
    }
   },
   "outputs": [],
   "source": [
    "# Преобразуем дату\n",
    "\n",
    "data['app_date'] = pd.to_datetime(data['app_date'])"
   ]
  },
  {
   "cell_type": "code",
   "execution_count": 92,
   "metadata": {
    "execution": {
     "iopub.execute_input": "2022-05-13T15:03:29.484885Z",
     "iopub.status.busy": "2022-05-13T15:03:29.484587Z",
     "iopub.status.idle": "2022-05-13T15:03:32.062463Z",
     "shell.execute_reply": "2022-05-13T15:03:32.061279Z",
     "shell.execute_reply.started": "2022-05-13T15:03:29.484850Z"
    }
   },
   "outputs": [],
   "source": [
    "# Выделяем год, месяц и день\n",
    "data['app_year'] = data['app_date'].apply(lambda x: x.year)\n",
    "data['app_month'] = data['app_date'].apply(lambda x: x.month)\n",
    "data['app_day'] = data['app_date'].apply(lambda x: x.day)\n",
    "\n",
    "#data['app_weekday']= data['app_date'].apply(lambda x: x.day_of_week)"
   ]
  },
  {
   "cell_type": "code",
   "execution_count": 93,
   "metadata": {
    "execution": {
     "iopub.execute_input": "2022-05-13T15:03:32.064259Z",
     "iopub.status.busy": "2022-05-13T15:03:32.063926Z",
     "iopub.status.idle": "2022-05-13T15:03:32.084165Z",
     "shell.execute_reply": "2022-05-13T15:03:32.083166Z",
     "shell.execute_reply.started": "2022-05-13T15:03:32.064223Z"
    }
   },
   "outputs": [],
   "source": [
    "# Удаляем столбец с датой\n",
    "data.drop(['app_date'], axis=1, inplace=True)"
   ]
  },
  {
   "cell_type": "code",
   "execution_count": 94,
   "metadata": {
    "execution": {
     "iopub.execute_input": "2022-05-13T15:03:32.088153Z",
     "iopub.status.busy": "2022-05-13T15:03:32.087692Z",
     "iopub.status.idle": "2022-05-13T15:03:32.102714Z",
     "shell.execute_reply": "2022-05-13T15:03:32.101638Z",
     "shell.execute_reply.started": "2022-05-13T15:03:32.088116Z"
    }
   },
   "outputs": [],
   "source": [
    "data[['app_year', 'app_month', 'app_day']]"
   ]
  },
  {
   "cell_type": "code",
   "execution_count": 95,
   "metadata": {
    "execution": {
     "iopub.execute_input": "2022-05-13T15:03:32.104778Z",
     "iopub.status.busy": "2022-05-13T15:03:32.103790Z",
     "iopub.status.idle": "2022-05-13T15:03:32.131715Z",
     "shell.execute_reply": "2022-05-13T15:03:32.130703Z",
     "shell.execute_reply.started": "2022-05-13T15:03:32.104725Z"
    }
   },
   "outputs": [],
   "source": [
    "# Заполняем пропуски\n",
    "data['education'] = data['education'].fillna('SCH')"
   ]
  },
  {
   "cell_type": "code",
   "execution_count": 96,
   "metadata": {
    "execution": {
     "iopub.execute_input": "2022-05-13T15:03:32.135026Z",
     "iopub.status.busy": "2022-05-13T15:03:32.134708Z",
     "iopub.status.idle": "2022-05-13T15:03:32.480380Z",
     "shell.execute_reply": "2022-05-13T15:03:32.479157Z",
     "shell.execute_reply.started": "2022-05-13T15:03:32.134992Z"
    }
   },
   "outputs": [],
   "source": [
    "# Анализируем данные \"возраст\"\n",
    "column_analisys(data['age'])"
   ]
  },
  {
   "cell_type": "code",
   "execution_count": 97,
   "metadata": {
    "execution": {
     "iopub.execute_input": "2022-05-13T15:03:32.483052Z",
     "iopub.status.busy": "2022-05-13T15:03:32.482410Z",
     "iopub.status.idle": "2022-05-13T15:03:32.762024Z",
     "shell.execute_reply": "2022-05-13T15:03:32.761014Z",
     "shell.execute_reply.started": "2022-05-13T15:03:32.483014Z"
    }
   },
   "outputs": [],
   "source": [
    "# Нормализуем данные \"возраст\"\n",
    "data['age'] = data['age'].apply(lambda x: np.log(x))"
   ]
  },
  {
   "cell_type": "code",
   "execution_count": 98,
   "metadata": {
    "execution": {
     "iopub.execute_input": "2022-05-13T15:03:32.763858Z",
     "iopub.status.busy": "2022-05-13T15:03:32.763583Z",
     "iopub.status.idle": "2022-05-13T15:03:33.112833Z",
     "shell.execute_reply": "2022-05-13T15:03:33.111800Z",
     "shell.execute_reply.started": "2022-05-13T15:03:32.763826Z"
    }
   },
   "outputs": [],
   "source": [
    "column_analisys(data['age'])"
   ]
  },
  {
   "cell_type": "code",
   "execution_count": 99,
   "metadata": {
    "execution": {
     "iopub.execute_input": "2022-05-13T15:03:33.116180Z",
     "iopub.status.busy": "2022-05-13T15:03:33.115884Z",
     "iopub.status.idle": "2022-05-13T15:03:33.456602Z",
     "shell.execute_reply": "2022-05-13T15:03:33.455900Z",
     "shell.execute_reply.started": "2022-05-13T15:03:33.116144Z"
    }
   },
   "outputs": [],
   "source": [
    "column_analisys(data['score_bki'])"
   ]
  },
  {
   "cell_type": "code",
   "execution_count": 100,
   "metadata": {
    "execution": {
     "iopub.execute_input": "2022-05-13T15:03:33.458408Z",
     "iopub.status.busy": "2022-05-13T15:03:33.457782Z",
     "iopub.status.idle": "2022-05-13T15:03:33.467711Z",
     "shell.execute_reply": "2022-05-13T15:03:33.466807Z",
     "shell.execute_reply.started": "2022-05-13T15:03:33.458369Z"
    }
   },
   "outputs": [],
   "source": [
    "# Убираем выбросы\n",
    "data['score_bki'].loc[data['score_bki'] > -\n",
    "                      0.5290698762499992] = -0.5290698762499992\n",
    "data['score_bki'].loc[data['score_bki'] < -\n",
    "                      3.299251946250001] = -3.299251946250001"
   ]
  },
  {
   "cell_type": "code",
   "execution_count": 101,
   "metadata": {
    "execution": {
     "iopub.execute_input": "2022-05-13T15:03:33.469682Z",
     "iopub.status.busy": "2022-05-13T15:03:33.469271Z",
     "iopub.status.idle": "2022-05-13T15:03:33.791701Z",
     "shell.execute_reply": "2022-05-13T15:03:33.790627Z",
     "shell.execute_reply.started": "2022-05-13T15:03:33.469644Z"
    }
   },
   "outputs": [],
   "source": [
    "column_analisys(data['score_bki'])"
   ]
  },
  {
   "cell_type": "code",
   "execution_count": 102,
   "metadata": {
    "execution": {
     "iopub.execute_input": "2022-05-13T15:03:33.793187Z",
     "iopub.status.busy": "2022-05-13T15:03:33.792949Z",
     "iopub.status.idle": "2022-05-13T15:03:34.112023Z",
     "shell.execute_reply": "2022-05-13T15:03:34.111059Z",
     "shell.execute_reply.started": "2022-05-13T15:03:33.793160Z"
    }
   },
   "outputs": [],
   "source": [
    "column_analisys(data['decline_app_cnt'])"
   ]
  },
  {
   "cell_type": "code",
   "execution_count": 103,
   "metadata": {
    "execution": {
     "iopub.execute_input": "2022-05-13T15:03:34.114527Z",
     "iopub.status.busy": "2022-05-13T15:03:34.113384Z",
     "iopub.status.idle": "2022-05-13T15:03:34.124096Z",
     "shell.execute_reply": "2022-05-13T15:03:34.123114Z",
     "shell.execute_reply.started": "2022-05-13T15:03:34.114480Z"
    }
   },
   "outputs": [],
   "source": [
    "data['decline_app_cnt'].value_counts()"
   ]
  },
  {
   "cell_type": "code",
   "execution_count": 104,
   "metadata": {
    "execution": {
     "iopub.execute_input": "2022-05-13T15:03:34.125992Z",
     "iopub.status.busy": "2022-05-13T15:03:34.125577Z",
     "iopub.status.idle": "2022-05-13T15:03:34.215603Z",
     "shell.execute_reply": "2022-05-13T15:03:34.214619Z",
     "shell.execute_reply.started": "2022-05-13T15:03:34.125948Z"
    }
   },
   "outputs": [],
   "source": [
    "# Создаем новый столбец с категориями количества отказов\n",
    "data['decline_app_cnt_cat'] = data['decline_app_cnt'].apply(\n",
    "    lambda x: x == 0 and 0 or x == 1 and 1 or x == 2 and 2 or x == 3 and 3 or x <= 606 and 4)"
   ]
  },
  {
   "cell_type": "code",
   "execution_count": 105,
   "metadata": {
    "execution": {
     "iopub.execute_input": "2022-05-13T15:03:34.217633Z",
     "iopub.status.busy": "2022-05-13T15:03:34.217110Z",
     "iopub.status.idle": "2022-05-13T15:03:34.228088Z",
     "shell.execute_reply": "2022-05-13T15:03:34.227173Z",
     "shell.execute_reply.started": "2022-05-13T15:03:34.217587Z"
    }
   },
   "outputs": [],
   "source": [
    "data['decline_app_cnt_cat'].value_counts()"
   ]
  },
  {
   "cell_type": "code",
   "execution_count": 106,
   "metadata": {
    "execution": {
     "iopub.execute_input": "2022-05-13T15:03:34.231355Z",
     "iopub.status.busy": "2022-05-13T15:03:34.230541Z",
     "iopub.status.idle": "2022-05-13T15:03:34.312354Z",
     "shell.execute_reply": "2022-05-13T15:03:34.311333Z",
     "shell.execute_reply.started": "2022-05-13T15:03:34.231305Z"
    }
   },
   "outputs": [],
   "source": [
    "# Создаем новый столбец с бинарной категорией отказов\n",
    "\n",
    "data['decline_app_cnt_bin'] = data['decline_app_cnt'].apply(\n",
    "    lambda x: x != 0 and 1 or x == 0 and 0)"
   ]
  },
  {
   "cell_type": "code",
   "execution_count": 107,
   "metadata": {
    "execution": {
     "iopub.execute_input": "2022-05-13T15:03:34.314238Z",
     "iopub.status.busy": "2022-05-13T15:03:34.313927Z",
     "iopub.status.idle": "2022-05-13T15:03:34.322471Z",
     "shell.execute_reply": "2022-05-13T15:03:34.321450Z",
     "shell.execute_reply.started": "2022-05-13T15:03:34.314197Z"
    }
   },
   "outputs": [],
   "source": [
    "data['decline_app_cnt_bin'].unique()"
   ]
  },
  {
   "cell_type": "code",
   "execution_count": 108,
   "metadata": {
    "execution": {
     "iopub.execute_input": "2022-05-13T15:03:34.324657Z",
     "iopub.status.busy": "2022-05-13T15:03:34.324175Z",
     "iopub.status.idle": "2022-05-13T15:03:34.642780Z",
     "shell.execute_reply": "2022-05-13T15:03:34.641815Z",
     "shell.execute_reply.started": "2022-05-13T15:03:34.324613Z"
    }
   },
   "outputs": [],
   "source": [
    "column_analisys(data['bki_request_cnt'])"
   ]
  },
  {
   "cell_type": "code",
   "execution_count": 109,
   "metadata": {
    "execution": {
     "iopub.execute_input": "2022-05-13T15:03:34.644287Z",
     "iopub.status.busy": "2022-05-13T15:03:34.644075Z",
     "iopub.status.idle": "2022-05-13T15:03:34.651909Z",
     "shell.execute_reply": "2022-05-13T15:03:34.650945Z",
     "shell.execute_reply.started": "2022-05-13T15:03:34.644259Z"
    }
   },
   "outputs": [],
   "source": [
    "data['bki_request_cnt'].loc[data['bki_request_cnt'] > 7.5].count()"
   ]
  },
  {
   "cell_type": "code",
   "execution_count": 110,
   "metadata": {
    "execution": {
     "iopub.execute_input": "2022-05-13T15:03:34.653466Z",
     "iopub.status.busy": "2022-05-13T15:03:34.653260Z",
     "iopub.status.idle": "2022-05-13T15:03:34.666073Z",
     "shell.execute_reply": "2022-05-13T15:03:34.665147Z",
     "shell.execute_reply.started": "2022-05-13T15:03:34.653440Z"
    }
   },
   "outputs": [],
   "source": [
    "# Удаляем выбросы\n",
    "data['bki_request_cnt'].loc[data['bki_request_cnt'] > 7.5] = 7.5"
   ]
  },
  {
   "cell_type": "code",
   "execution_count": null,
   "metadata": {},
   "outputs": [],
   "source": []
  },
  {
   "cell_type": "code",
   "execution_count": 111,
   "metadata": {
    "execution": {
     "iopub.execute_input": "2022-05-13T15:03:34.667775Z",
     "iopub.status.busy": "2022-05-13T15:03:34.667432Z",
     "iopub.status.idle": "2022-05-13T15:03:35.001222Z",
     "shell.execute_reply": "2022-05-13T15:03:35.000298Z",
     "shell.execute_reply.started": "2022-05-13T15:03:34.667707Z"
    }
   },
   "outputs": [],
   "source": [
    "column_analisys(data['bki_request_cnt'])"
   ]
  },
  {
   "cell_type": "code",
   "execution_count": 112,
   "metadata": {
    "execution": {
     "iopub.execute_input": "2022-05-13T15:03:35.003474Z",
     "iopub.status.busy": "2022-05-13T15:03:35.002777Z",
     "iopub.status.idle": "2022-05-13T15:03:35.008437Z",
     "shell.execute_reply": "2022-05-13T15:03:35.007784Z",
     "shell.execute_reply.started": "2022-05-13T15:03:35.003435Z"
    }
   },
   "outputs": [],
   "source": [
    "data['bki_request_cnt'].loc[data['bki_request_cnt'].isna()] = 1.872487"
   ]
  },
  {
   "cell_type": "code",
   "execution_count": 113,
   "metadata": {
    "execution": {
     "iopub.execute_input": "2022-05-13T15:03:35.010382Z",
     "iopub.status.busy": "2022-05-13T15:03:35.009453Z",
     "iopub.status.idle": "2022-05-13T15:03:35.354618Z",
     "shell.execute_reply": "2022-05-13T15:03:35.353771Z",
     "shell.execute_reply.started": "2022-05-13T15:03:35.010314Z"
    }
   },
   "outputs": [],
   "source": [
    "column_analisys(data['bki_request_cnt'])"
   ]
  },
  {
   "cell_type": "code",
   "execution_count": 114,
   "metadata": {
    "execution": {
     "iopub.execute_input": "2022-05-13T15:03:35.356464Z",
     "iopub.status.busy": "2022-05-13T15:03:35.356023Z",
     "iopub.status.idle": "2022-05-13T15:03:35.363949Z",
     "shell.execute_reply": "2022-05-13T15:03:35.363070Z",
     "shell.execute_reply.started": "2022-05-13T15:03:35.356431Z"
    }
   },
   "outputs": [],
   "source": [
    "data['bki_request_cnt'].isna()"
   ]
  },
  {
   "cell_type": "code",
   "execution_count": 115,
   "metadata": {
    "execution": {
     "iopub.execute_input": "2022-05-13T15:03:35.365706Z",
     "iopub.status.busy": "2022-05-13T15:03:35.365413Z",
     "iopub.status.idle": "2022-05-13T15:03:37.475685Z",
     "shell.execute_reply": "2022-05-13T15:03:37.474765Z",
     "shell.execute_reply.started": "2022-05-13T15:03:35.365675Z"
    }
   },
   "outputs": [],
   "source": [
    "msno.bar(data)"
   ]
  },
  {
   "cell_type": "code",
   "execution_count": null,
   "metadata": {},
   "outputs": [],
   "source": []
  },
  {
   "cell_type": "code",
   "execution_count": null,
   "metadata": {},
   "outputs": [],
   "source": []
  },
  {
   "cell_type": "code",
   "execution_count": 116,
   "metadata": {
    "execution": {
     "iopub.execute_input": "2022-05-13T15:03:37.477362Z",
     "iopub.status.busy": "2022-05-13T15:03:37.477102Z",
     "iopub.status.idle": "2022-05-13T15:03:37.767355Z",
     "shell.execute_reply": "2022-05-13T15:03:37.766446Z",
     "shell.execute_reply.started": "2022-05-13T15:03:37.477330Z"
    }
   },
   "outputs": [],
   "source": [
    "column_analisys(data['income'])"
   ]
  },
  {
   "cell_type": "code",
   "execution_count": 117,
   "metadata": {
    "execution": {
     "iopub.execute_input": "2022-05-13T15:03:37.769322Z",
     "iopub.status.busy": "2022-05-13T15:03:37.768984Z",
     "iopub.status.idle": "2022-05-13T15:03:38.063442Z",
     "shell.execute_reply": "2022-05-13T15:03:38.062091Z",
     "shell.execute_reply.started": "2022-05-13T15:03:37.769279Z"
    }
   },
   "outputs": [],
   "source": [
    "data['income'] = data['income'].apply(lambda x: np.log(x))"
   ]
  },
  {
   "cell_type": "code",
   "execution_count": 118,
   "metadata": {
    "execution": {
     "iopub.execute_input": "2022-05-13T15:03:38.067803Z",
     "iopub.status.busy": "2022-05-13T15:03:38.066936Z",
     "iopub.status.idle": "2022-05-13T15:03:38.346848Z",
     "shell.execute_reply": "2022-05-13T15:03:38.345809Z",
     "shell.execute_reply.started": "2022-05-13T15:03:38.067762Z"
    }
   },
   "outputs": [],
   "source": [
    "column_analisys(data['income'])"
   ]
  },
  {
   "cell_type": "code",
   "execution_count": null,
   "metadata": {},
   "outputs": [],
   "source": []
  },
  {
   "cell_type": "code",
   "execution_count": null,
   "metadata": {},
   "outputs": [],
   "source": []
  },
  {
   "cell_type": "code",
   "execution_count": 119,
   "metadata": {
    "execution": {
     "iopub.execute_input": "2022-05-13T15:03:38.348431Z",
     "iopub.status.busy": "2022-05-13T15:03:38.348177Z",
     "iopub.status.idle": "2022-05-13T15:03:38.368450Z",
     "shell.execute_reply": "2022-05-13T15:03:38.367636Z",
     "shell.execute_reply.started": "2022-05-13T15:03:38.348399Z"
    }
   },
   "outputs": [],
   "source": [
    "# Создем новые данные на основе уже имеющихся\n",
    "data['age_2'] = data['age']**2\n",
    "data['income_2'] = data['income']**2\n",
    "data['age_income'] = data['age']+data['income']/1000\n",
    "data['age_income_mult'] = data['age']*data['income']/1000\n",
    "# data['score_bki_sigm']=data['score_bki']*10000\n",
    "# data['age_income_2']=data['age_income']**2\n",
    "# data['decline_bki_cnt']=data['bki_request_cnt']*data['decline_app_cnt']\n",
    "data['decline_bki_cnt'] = data['decline_app_cnt']*1000\n",
    "data['score_bki_age'] = data['score_bki']*data['age']\n",
    "data['score_bki_incom'] = data['score_bki']*data['income']/1000\n",
    "data['score_bki_incom_age'] = data['score_bki']*data['age']*data['income']/1000\n",
    "num_cols = ['age', 'score_bki', 'decline_app_cnt', 'bki_request_cnt', 'income', 'age_2', 'income_2', 'age_income', 'app_year', 'app_month',\n",
    "            'app_day', 'score_bki_age', 'score_bki_incom', 'score_bki_incom_age', 'age_income_mult', 'decline_bki_cnt', 'decline_app_cnt_bin']"
   ]
  },
  {
   "cell_type": "markdown",
   "metadata": {},
   "source": []
  },
  {
   "cell_type": "code",
   "execution_count": 120,
   "metadata": {
    "execution": {
     "iopub.execute_input": "2022-05-13T15:03:38.374615Z",
     "iopub.status.busy": "2022-05-13T15:03:38.373997Z",
     "iopub.status.idle": "2022-05-13T15:03:38.494379Z",
     "shell.execute_reply": "2022-05-13T15:03:38.493143Z",
     "shell.execute_reply.started": "2022-05-13T15:03:38.374579Z"
    }
   },
   "outputs": [],
   "source": [
    "data = pd.get_dummies(data, columns=['education'], dummy_na=True)\n",
    "data = pd.get_dummies(data, columns=['decline_app_cnt_cat'], dummy_na=True)\n",
    "# Попытка преобразовать \"education\" не в бинарныый, а мултикатегорийный признак, неуд-но\n",
    "#from sklearn.preprocessing import LabelEncoder\n",
    "#from sklearn import preprocessing\n",
    "#from sklearn.preprocessing import MultiLabelBinarizer\n",
    "#from sklearn.preprocessing import OrdinalEncoder\n",
    "\n",
    "#mlb = LabelEncoder()\n",
    "\n",
    "\n",
    "#le = preprocessing.LabelEncoder()\n",
    "# le.fit(data['education'])\n",
    "\n",
    "# le.classes_\n",
    "\n",
    "# mapped_education=le.transform(data['education'])\n",
    "\n",
    "\n",
    "# print(dict(enumerate(le.classes_)))\n",
    "# убедимся в преобразовании\n",
    "# data['education']=mapped_education"
   ]
  },
  {
   "cell_type": "code",
   "execution_count": 121,
   "metadata": {
    "execution": {
     "iopub.execute_input": "2022-05-13T15:03:38.496999Z",
     "iopub.status.busy": "2022-05-13T15:03:38.495899Z",
     "iopub.status.idle": "2022-05-13T15:03:39.134761Z",
     "shell.execute_reply": "2022-05-13T15:03:39.133821Z",
     "shell.execute_reply.started": "2022-05-13T15:03:38.496949Z"
    }
   },
   "outputs": [],
   "source": [
    "sns.heatmap(data[num_cols].corr().abs(), vmin=0, vmax=1)"
   ]
  },
  {
   "cell_type": "code",
   "execution_count": 122,
   "metadata": {
    "execution": {
     "iopub.execute_input": "2022-05-13T15:03:39.136996Z",
     "iopub.status.busy": "2022-05-13T15:03:39.136501Z",
     "iopub.status.idle": "2022-05-13T15:03:39.488617Z",
     "shell.execute_reply": "2022-05-13T15:03:39.487933Z",
     "shell.execute_reply.started": "2022-05-13T15:03:39.136955Z"
    }
   },
   "outputs": [],
   "source": [
    "from sklearn.feature_selection import f_classif\n",
    "imp_num = pd.Series(f_classif(data[num_cols], data['default'])[\n",
    "                    0], index=num_cols)\n",
    "imp_num.sort_values(inplace=True)\n",
    "imp_num.plot(kind='barh')"
   ]
  },
  {
   "cell_type": "code",
   "execution_count": 123,
   "metadata": {
    "execution": {
     "iopub.execute_input": "2022-05-13T15:03:39.490174Z",
     "iopub.status.busy": "2022-05-13T15:03:39.489897Z",
     "iopub.status.idle": "2022-05-13T15:03:39.508881Z",
     "shell.execute_reply": "2022-05-13T15:03:39.507890Z",
     "shell.execute_reply.started": "2022-05-13T15:03:39.490141Z"
    }
   },
   "outputs": [],
   "source": [
    "data[['score_bki', 'decline_app_cnt', 'bki_request_cnt']]"
   ]
  },
  {
   "cell_type": "code",
   "execution_count": null,
   "metadata": {},
   "outputs": [],
   "source": []
  },
  {
   "cell_type": "code",
   "execution_count": 124,
   "metadata": {
    "execution": {
     "iopub.execute_input": "2022-05-13T15:03:39.510273Z",
     "iopub.status.busy": "2022-05-13T15:03:39.510056Z",
     "iopub.status.idle": "2022-05-13T15:03:39.700976Z",
     "shell.execute_reply": "2022-05-13T15:03:39.699836Z",
     "shell.execute_reply.started": "2022-05-13T15:03:39.510246Z"
    }
   },
   "outputs": [],
   "source": [
    "from sklearn import preprocessing\n",
    "le = preprocessing.LabelEncoder()\n",
    "\n",
    "for column in bin_cols:\n",
    "    data[column] = le.fit_transform(data[column])\n",
    "\n",
    "columns = ['first_time', 'sna', 'work_address',\n",
    "           'home_address', 'region_rating']\n",
    "\n",
    "for column in columns:\n",
    "    data[column] = le.fit_transform(data[column])"
   ]
  },
  {
   "cell_type": "code",
   "execution_count": 125,
   "metadata": {
    "execution": {
     "iopub.execute_input": "2022-05-13T15:03:39.702696Z",
     "iopub.status.busy": "2022-05-13T15:03:39.702353Z",
     "iopub.status.idle": "2022-05-13T15:03:39.727051Z",
     "shell.execute_reply": "2022-05-13T15:03:39.726286Z",
     "shell.execute_reply.started": "2022-05-13T15:03:39.702662Z"
    }
   },
   "outputs": [],
   "source": [
    "data.info()"
   ]
  },
  {
   "cell_type": "code",
   "execution_count": 126,
   "metadata": {
    "execution": {
     "iopub.execute_input": "2022-05-13T15:03:39.728513Z",
     "iopub.status.busy": "2022-05-13T15:03:39.728270Z",
     "iopub.status.idle": "2022-05-13T15:03:39.767116Z",
     "shell.execute_reply": "2022-05-13T15:03:39.766300Z",
     "shell.execute_reply.started": "2022-05-13T15:03:39.728483Z"
    }
   },
   "outputs": [],
   "source": [
    "data"
   ]
  },
  {
   "cell_type": "code",
   "execution_count": null,
   "metadata": {},
   "outputs": [],
   "source": []
  },
  {
   "cell_type": "code",
   "execution_count": 127,
   "metadata": {
    "execution": {
     "iopub.execute_input": "2022-05-13T15:03:39.768764Z",
     "iopub.status.busy": "2022-05-13T15:03:39.768364Z",
     "iopub.status.idle": "2022-05-13T15:03:39.831885Z",
     "shell.execute_reply": "2022-05-13T15:03:39.831158Z",
     "shell.execute_reply.started": "2022-05-13T15:03:39.768720Z"
    }
   },
   "outputs": [],
   "source": [
    "# Теперь выделим тестовую часть\n",
    "train_data = data.query('sample == 1').drop(['sample'], axis=1)\n",
    "test_data = data.query('sample == 0').drop(['sample', 'default'], axis=1)\n",
    "\n",
    "y = train_data['default'].values  # наш таргет\n",
    "X = train_data.drop(['default'], axis=1)"
   ]
  },
  {
   "cell_type": "code",
   "execution_count": 128,
   "metadata": {
    "execution": {
     "iopub.execute_input": "2022-05-13T15:03:39.833465Z",
     "iopub.status.busy": "2022-05-13T15:03:39.833086Z",
     "iopub.status.idle": "2022-05-13T15:03:39.867955Z",
     "shell.execute_reply": "2022-05-13T15:03:39.867234Z",
     "shell.execute_reply.started": "2022-05-13T15:03:39.833435Z"
    }
   },
   "outputs": [],
   "source": [
    "# Воспользуемся специальной функцие train_test_split для разбивки тестовых данных\n",
    "from sklearn.model_selection import train_test_split\n",
    "\n",
    "# выделим 15% данных на валидацию (параметр test_size)\n",
    "X_train, X_test, y_train, y_test = train_test_split(\n",
    "    X, y, test_size=0.15, random_state=42, shuffle=True)"
   ]
  },
  {
   "cell_type": "code",
   "execution_count": 129,
   "metadata": {
    "execution": {
     "iopub.execute_input": "2022-05-13T15:03:39.869537Z",
     "iopub.status.busy": "2022-05-13T15:03:39.869180Z",
     "iopub.status.idle": "2022-05-13T15:03:39.873695Z",
     "shell.execute_reply": "2022-05-13T15:03:39.872756Z",
     "shell.execute_reply.started": "2022-05-13T15:03:39.869508Z"
    }
   },
   "outputs": [],
   "source": [
    "# Вариант разделения выборки, результат неудовлетворительный\n",
    "#import pandas as geek\n",
    "#ones = y[y == 1.0]\n",
    "# big_class=train_data[train_data['default']==0]\n",
    "# small_class=train_data[train_data['default']==1]\n",
    "#big_class_n = big_class.iloc[:len(ones), ]\n",
    "# new_sample=pd.concat([big_class_n,small_class])\n",
    "\n",
    "#X = new_sample[list(set(new_sample.columns) - set(['default']))]\n",
    "#y = new_sample['default']"
   ]
  },
  {
   "cell_type": "code",
   "execution_count": 130,
   "metadata": {
    "execution": {
     "iopub.execute_input": "2022-05-13T15:03:39.875550Z",
     "iopub.status.busy": "2022-05-13T15:03:39.875306Z",
     "iopub.status.idle": "2022-05-13T15:03:39.890035Z",
     "shell.execute_reply": "2022-05-13T15:03:39.888937Z",
     "shell.execute_reply.started": "2022-05-13T15:03:39.875519Z"
    }
   },
   "outputs": [],
   "source": [
    "# X"
   ]
  },
  {
   "cell_type": "code",
   "execution_count": 131,
   "metadata": {
    "execution": {
     "iopub.execute_input": "2022-05-13T15:03:39.891727Z",
     "iopub.status.busy": "2022-05-13T15:03:39.891129Z",
     "iopub.status.idle": "2022-05-13T15:03:39.904438Z",
     "shell.execute_reply": "2022-05-13T15:03:39.903587Z",
     "shell.execute_reply.started": "2022-05-13T15:03:39.891684Z"
    }
   },
   "outputs": [],
   "source": [
    "# X.shape"
   ]
  },
  {
   "cell_type": "code",
   "execution_count": 132,
   "metadata": {
    "execution": {
     "iopub.execute_input": "2022-05-13T15:03:39.906378Z",
     "iopub.status.busy": "2022-05-13T15:03:39.905532Z",
     "iopub.status.idle": "2022-05-13T15:03:39.917417Z",
     "shell.execute_reply": "2022-05-13T15:03:39.916666Z",
     "shell.execute_reply.started": "2022-05-13T15:03:39.906322Z"
    }
   },
   "outputs": [],
   "source": [
    "# y"
   ]
  },
  {
   "cell_type": "code",
   "execution_count": null,
   "metadata": {},
   "outputs": [],
   "source": []
  },
  {
   "cell_type": "code",
   "execution_count": null,
   "metadata": {},
   "outputs": [],
   "source": []
  },
  {
   "cell_type": "code",
   "execution_count": 133,
   "metadata": {
    "execution": {
     "iopub.execute_input": "2022-05-13T15:03:39.919254Z",
     "iopub.status.busy": "2022-05-13T15:03:39.918635Z",
     "iopub.status.idle": "2022-05-13T15:03:39.930012Z",
     "shell.execute_reply": "2022-05-13T15:03:39.929154Z",
     "shell.execute_reply.started": "2022-05-13T15:03:39.919202Z"
    }
   },
   "outputs": [],
   "source": [
    "#X_train, X_test, y_train, y_test = train_test_split(X, y, test_size=0.2, random_state=42, shuffle=True)"
   ]
  },
  {
   "cell_type": "code",
   "execution_count": 134,
   "metadata": {
    "execution": {
     "iopub.execute_input": "2022-05-13T15:03:39.931919Z",
     "iopub.status.busy": "2022-05-13T15:03:39.931252Z",
     "iopub.status.idle": "2022-05-13T15:03:39.946473Z",
     "shell.execute_reply": "2022-05-13T15:03:39.945450Z",
     "shell.execute_reply.started": "2022-05-13T15:03:39.931875Z"
    }
   },
   "outputs": [],
   "source": [
    "# проверяем\n",
    "X_train.shape, X_test.shape, y_train.shape, y_test.shape"
   ]
  },
  {
   "cell_type": "code",
   "execution_count": 135,
   "metadata": {
    "execution": {
     "iopub.execute_input": "2022-05-13T15:03:39.948352Z",
     "iopub.status.busy": "2022-05-13T15:03:39.947966Z",
     "iopub.status.idle": "2022-05-13T15:07:23.554109Z",
     "shell.execute_reply": "2022-05-13T15:07:23.550487Z",
     "shell.execute_reply.started": "2022-05-13T15:03:39.948317Z"
    }
   },
   "outputs": [],
   "source": [
    "from sklearn.linear_model import LogisticRegression\n",
    "from sklearn.model_selection import GridSearchCV\n",
    "# запускаем GridSearch на небольшом кол-ве итераций max_iter=50 и с достаточно большой дельтой останова tol1e-3\n",
    "# чтобы получить оптимальные параметры модели в первом приближении\n",
    "model = LogisticRegression()\n",
    "\n",
    "iter_ = 50\n",
    "epsilon_stop = 1e-3\n",
    "\n",
    "param_grid = [\n",
    "    {'penalty': ['l1'],\n",
    "     'solver': ['liblinear', 'lbfgs'],\n",
    "     'class_weight':['none', 'balanced'],\n",
    "     'multi_class': ['auto', 'ovr'],\n",
    "     'max_iter':[iter_],\n",
    "     'tol':[epsilon_stop]},\n",
    "    {'penalty': ['l2'],\n",
    "     'solver': ['newton-cg', 'lbfgs', 'liblinear', 'sag', 'saga'],\n",
    "     'class_weight':['none', 'balanced'],\n",
    "     'multi_class': ['auto', 'ovr'],\n",
    "     'max_iter':[iter_],\n",
    "     'tol':[epsilon_stop]},\n",
    "    {'penalty': ['none'],\n",
    "     'solver': ['newton-cg', 'lbfgs', 'sag', 'saga'],\n",
    "     'class_weight':['none', 'balanced'],\n",
    "     'multi_class': ['auto', 'ovr'],\n",
    "     'max_iter':[iter_],\n",
    "     'tol':[epsilon_stop]},\n",
    "]\n",
    "\n",
    "# model ваша модель логистической регрессии\n",
    "gridsearch = GridSearchCV(model, param_grid, scoring='f1', n_jobs=-1, cv=5)\n",
    "gridsearch.fit(X_train, y_train)\n",
    "model = gridsearch.best_estimator_\n",
    "\n",
    "# печатаем параметры\n",
    "best_parameters = model.get_params()\n",
    "for param_name in sorted(best_parameters.keys()):\n",
    "    print('\\t%s: %r' % (param_name, best_parameters[param_name]))"
   ]
  },
  {
   "cell_type": "code",
   "execution_count": 136,
   "metadata": {
    "execution": {
     "iopub.execute_input": "2022-05-13T15:07:23.557319Z",
     "iopub.status.busy": "2022-05-13T15:07:23.556425Z",
     "iopub.status.idle": "2022-05-13T15:07:23.570907Z",
     "shell.execute_reply": "2022-05-13T15:07:23.569751Z",
     "shell.execute_reply.started": "2022-05-13T15:07:23.557252Z"
    }
   },
   "outputs": [],
   "source": [
    "# Импортируем необходимые библиотеки:\n",
    "# инструмент для создания и обучения модели\n",
    "from sklearn.linear_model import LogisticRegression\n",
    "from sklearn import metrics  # инструменты для оценки точности модели"
   ]
  },
  {
   "cell_type": "code",
   "execution_count": 137,
   "metadata": {
    "execution": {
     "iopub.execute_input": "2022-05-13T15:07:23.574072Z",
     "iopub.status.busy": "2022-05-13T15:07:23.573253Z",
     "iopub.status.idle": "2022-05-13T15:07:33.824702Z",
     "shell.execute_reply": "2022-05-13T15:07:33.823654Z",
     "shell.execute_reply.started": "2022-05-13T15:07:23.574017Z"
    }
   },
   "outputs": [],
   "source": [
    "logreg = LogisticRegression(C=1.0, class_weight='balanced', dual=False,\n",
    "                            fit_intercept=True,\n",
    "                            intercept_scaling=1,\n",
    "                            l1_ratio=None,\n",
    "                            max_iter=100,\n",
    "                            multi_class='auto',\n",
    "                            n_jobs=None,\n",
    "                            penalty='l2',\n",
    "                            random_state=None,\n",
    "                            solver='newton-cg',\n",
    "                            tol=0.001,\n",
    "                            verbose=0,\n",
    "                            warm_start=False)\n",
    "logreg.fit(X_train, y_train)\n",
    "y_pred = logreg.predict(X_test)"
   ]
  },
  {
   "cell_type": "code",
   "execution_count": 138,
   "metadata": {
    "execution": {
     "iopub.execute_input": "2022-05-13T15:07:33.827172Z",
     "iopub.status.busy": "2022-05-13T15:07:33.826505Z",
     "iopub.status.idle": "2022-05-13T15:07:33.846393Z",
     "shell.execute_reply": "2022-05-13T15:07:33.845444Z",
     "shell.execute_reply.started": "2022-05-13T15:07:33.827127Z"
    }
   },
   "outputs": [],
   "source": [
    "# Метрики для оченки качества модели до размещения на Kaggle\n",
    "acc = accuracy_score(y_test, y_pred)\n",
    "f1 = f1_score(y_test, y_pred)\n",
    "print(f'acc = {acc:.3f} F1-score = {f1:.5f}')"
   ]
  },
  {
   "cell_type": "code",
   "execution_count": 139,
   "metadata": {
    "execution": {
     "iopub.execute_input": "2022-05-13T15:07:33.848349Z",
     "iopub.status.busy": "2022-05-13T15:07:33.848012Z",
     "iopub.status.idle": "2022-05-13T15:07:33.887691Z",
     "shell.execute_reply": "2022-05-13T15:07:33.886796Z",
     "shell.execute_reply.started": "2022-05-13T15:07:33.848305Z"
    }
   },
   "outputs": [],
   "source": [
    "# Confusion matrix\n",
    "\n",
    "\n",
    "confusion_matrix(y_test, y_pred)"
   ]
  },
  {
   "cell_type": "code",
   "execution_count": 140,
   "metadata": {
    "execution": {
     "iopub.execute_input": "2022-05-13T15:07:33.890204Z",
     "iopub.status.busy": "2022-05-13T15:07:33.889526Z",
     "iopub.status.idle": "2022-05-13T15:07:33.932941Z",
     "shell.execute_reply": "2022-05-13T15:07:33.931806Z",
     "shell.execute_reply.started": "2022-05-13T15:07:33.890156Z"
    }
   },
   "outputs": [],
   "source": [
    "from sklearn.metrics import classification_report\n",
    "classification_report = classification_report(y_test, y_pred)\n",
    "print(classification_report)"
   ]
  },
  {
   "cell_type": "code",
   "execution_count": 141,
   "metadata": {
    "execution": {
     "iopub.execute_input": "2022-05-13T15:07:33.935830Z",
     "iopub.status.busy": "2022-05-13T15:07:33.935064Z",
     "iopub.status.idle": "2022-05-13T15:07:47.027042Z",
     "shell.execute_reply": "2022-05-13T15:07:47.025944Z",
     "shell.execute_reply.started": "2022-05-13T15:07:33.935775Z"
    }
   },
   "outputs": [],
   "source": [
    "# если качество нас устраивает, обучаем финальную модель на всех обучающи данных\n",
    "logreg_final = LogisticRegression(C=1.0, class_weight='balanced', dual=False,\n",
    "                                  fit_intercept=True,\n",
    "                                  intercept_scaling=1,\n",
    "                                  l1_ratio=None,\n",
    "                                  max_iter=100,\n",
    "                                  multi_class='auto',\n",
    "                                  n_jobs=None,\n",
    "                                  penalty='l2',\n",
    "                                  random_state=None,\n",
    "                                  solver='newton-cg',\n",
    "                                  tol=0.001,\n",
    "                                  verbose=0,\n",
    "                                  warm_start=False)\n",
    "logreg_final.fit(X, y)"
   ]
  },
  {
   "cell_type": "code",
   "execution_count": 142,
   "metadata": {
    "execution": {
     "iopub.execute_input": "2022-05-13T15:07:47.033873Z",
     "iopub.status.busy": "2022-05-13T15:07:47.033126Z",
     "iopub.status.idle": "2022-05-13T15:07:47.053093Z",
     "shell.execute_reply": "2022-05-13T15:07:47.051993Z",
     "shell.execute_reply.started": "2022-05-13T15:07:47.033811Z"
    }
   },
   "outputs": [],
   "source": [
    "predict_submission = logreg_final.predict(test_data)"
   ]
  },
  {
   "cell_type": "code",
   "execution_count": 143,
   "metadata": {
    "execution": {
     "iopub.execute_input": "2022-05-13T15:07:47.060003Z",
     "iopub.status.busy": "2022-05-13T15:07:47.059127Z",
     "iopub.status.idle": "2022-05-13T15:07:47.192592Z",
     "shell.execute_reply": "2022-05-13T15:07:47.191682Z",
     "shell.execute_reply.started": "2022-05-13T15:07:47.059952Z"
    }
   },
   "outputs": [],
   "source": [
    "sample_submission['default'] = predict_submission\n",
    "sample_submission.to_csv('submission.csv', index=False)\n",
    "sample_submission.head(10)"
   ]
  },
  {
   "cell_type": "code",
   "execution_count": 144,
   "metadata": {
    "execution": {
     "iopub.execute_input": "2022-05-13T15:07:47.195330Z",
     "iopub.status.busy": "2022-05-13T15:07:47.194518Z",
     "iopub.status.idle": "2022-05-13T15:07:47.217070Z",
     "shell.execute_reply": "2022-05-13T15:07:47.216005Z",
     "shell.execute_reply.started": "2022-05-13T15:07:47.195276Z"
    }
   },
   "outputs": [],
   "source": [
    "sample_submission.describe()"
   ]
  },
  {
   "cell_type": "code",
   "execution_count": 145,
   "metadata": {
    "execution": {
     "iopub.execute_input": "2022-05-13T15:07:47.219250Z",
     "iopub.status.busy": "2022-05-13T15:07:47.218906Z",
     "iopub.status.idle": "2022-05-13T15:07:48.360225Z",
     "shell.execute_reply": "2022-05-13T15:07:48.359256Z",
     "shell.execute_reply.started": "2022-05-13T15:07:47.219207Z"
    }
   },
   "outputs": [],
   "source": [
    "!kaggle competitions submit - c sf-scoring - f ssubmission.csv - m \"Message\"\n",
    "# !kaggle competitions submit your-competition-name -f submission.csv -m 'My submission message'"
   ]
  }
 ],
 "metadata": {
  "kernelspec": {
   "display_name": "Python 3",
   "language": "python",
   "name": "python3"
  },
  "language_info": {
   "codemirror_mode": {
    "name": "ipython",
    "version": 3
   },
   "file_extension": ".py",
   "mimetype": "text/x-python",
   "name": "python",
   "nbconvert_exporter": "python",
   "pygments_lexer": "ipython3",
   "version": "3.8.8"
  }
 },
 "nbformat": 4,
 "nbformat_minor": 4
}
